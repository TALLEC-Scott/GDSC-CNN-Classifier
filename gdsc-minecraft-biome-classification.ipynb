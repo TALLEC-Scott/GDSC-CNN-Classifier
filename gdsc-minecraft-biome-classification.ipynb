{
 "cells": [
  {
   "cell_type": "markdown",
   "id": "dc57cd23",
   "metadata": {
    "papermill": {
     "duration": 0.006573,
     "end_time": "2023-11-06T18:32:41.479710",
     "exception": false,
     "start_time": "2023-11-06T18:32:41.473137",
     "status": "completed"
    },
    "tags": []
   },
   "source": [
    "# Minecraft Classification\n",
    "Based on the GitHub](https://github.com/GDSC-EPITA/gdsc-computer-vision-workshop)"
   ]
  },
  {
   "cell_type": "code",
   "execution_count": 1,
   "id": "401f8e00",
   "metadata": {
    "_cell_guid": "b1076dfc-b9ad-4769-8c92-a6c4dae69d19",
    "_uuid": "8f2839f25d086af736a60e9eeb907d3b93b6e0e5",
    "execution": {
     "iopub.execute_input": "2023-11-06T18:32:41.493823Z",
     "iopub.status.busy": "2023-11-06T18:32:41.493216Z",
     "iopub.status.idle": "2023-11-06T18:32:50.765268Z",
     "shell.execute_reply": "2023-11-06T18:32:50.764403Z"
    },
    "papermill": {
     "duration": 9.281791,
     "end_time": "2023-11-06T18:32:50.767652",
     "exception": false,
     "start_time": "2023-11-06T18:32:41.485861",
     "status": "completed"
    },
    "tags": []
   },
   "outputs": [
    {
     "name": "stderr",
     "output_type": "stream",
     "text": [
      "/opt/conda/lib/python3.10/site-packages/scipy/__init__.py:146: UserWarning: A NumPy version >=1.16.5 and <1.23.0 is required for this version of SciPy (detected version 1.23.5\n",
      "  warnings.warn(f\"A NumPy version >={np_minversion} and <{np_maxversion}\"\n"
     ]
    }
   ],
   "source": [
    "import numpy as np\n",
    "import os\n",
    "import tensorflow as tf\n",
    "import matplotlib.pyplot as plt\n",
    "import pandas as pd\n",
    "from keras import layers\n",
    "import cv2"
   ]
  },
  {
   "cell_type": "code",
   "execution_count": 2,
   "id": "f38c07ba",
   "metadata": {
    "execution": {
     "iopub.execute_input": "2023-11-06T18:32:50.782290Z",
     "iopub.status.busy": "2023-11-06T18:32:50.781451Z",
     "iopub.status.idle": "2023-11-06T18:32:50.786232Z",
     "shell.execute_reply": "2023-11-06T18:32:50.785321Z"
    },
    "papermill": {
     "duration": 0.013956,
     "end_time": "2023-11-06T18:32:50.788175",
     "exception": false,
     "start_time": "2023-11-06T18:32:50.774219",
     "status": "completed"
    },
    "tags": []
   },
   "outputs": [],
   "source": [
    "# set the seed for reproductiblity\n",
    "SEED = 123\n",
    "tf.keras.utils.set_random_seed(SEED)"
   ]
  },
  {
   "cell_type": "code",
   "execution_count": 3,
   "id": "76598e3f",
   "metadata": {
    "execution": {
     "iopub.execute_input": "2023-11-06T18:32:50.801919Z",
     "iopub.status.busy": "2023-11-06T18:32:50.801646Z",
     "iopub.status.idle": "2023-11-06T18:32:51.274127Z",
     "shell.execute_reply": "2023-11-06T18:32:51.273212Z"
    },
    "papermill": {
     "duration": 0.481504,
     "end_time": "2023-11-06T18:32:51.276067",
     "exception": false,
     "start_time": "2023-11-06T18:32:50.794563",
     "status": "completed"
    },
    "tags": []
   },
   "outputs": [
    {
     "data": {
      "text/plain": [
       "[PhysicalDevice(name='/physical_device:GPU:0', device_type='GPU')]"
      ]
     },
     "execution_count": 3,
     "metadata": {},
     "output_type": "execute_result"
    }
   ],
   "source": [
    "# check the available devices (see the GitHub for more info)\n",
    "tf.config.list_physical_devices('GPU')"
   ]
  },
  {
   "cell_type": "code",
   "execution_count": 4,
   "id": "9dc674fe",
   "metadata": {
    "execution": {
     "iopub.execute_input": "2023-11-06T18:32:51.290513Z",
     "iopub.status.busy": "2023-11-06T18:32:51.290121Z",
     "iopub.status.idle": "2023-11-06T18:33:00.210006Z",
     "shell.execute_reply": "2023-11-06T18:33:00.208969Z"
    },
    "papermill": {
     "duration": 8.929511,
     "end_time": "2023-11-06T18:33:00.212189",
     "exception": false,
     "start_time": "2023-11-06T18:32:51.282678",
     "status": "completed"
    },
    "tags": []
   },
   "outputs": [
    {
     "name": "stdout",
     "output_type": "stream",
     "text": [
      "Found 17387 files belonging to 19 classes.\n",
      "Using 13910 files for training.\n",
      "Using 3477 files for validation.\n",
      "['00_plains', '01_snowy_tundra', '02_snowy_mountains', '03_beach', '04_desert_hills', '05_wooded_hills', '06_taiga_hills', '07_desert', '08_jungle', '09_birch_forest', '10_dark_forest', '11_mountains', '12_snowy_taiga', '13_wooded_mountains', '14_savanna', '15_forest', '16_taiga', '17_swamp', '18_river']\n"
     ]
    }
   ],
   "source": [
    "batch_size = 256\n",
    "img_size = (18, 32)\n",
    "train_data_directory = \"/kaggle/input/gdsc-epita-minecraft-biome-classification/dataset_training/\"\n",
    "\n",
    "# import the data using the handy \"image_dataset_from_directory\"\n",
    "# function from TensorFlow\n",
    "\n",
    "\n",
    "ds_train, ds_val = tf.keras.utils.image_dataset_from_directory(\n",
    "    train_data_directory,\n",
    "    labels='inferred',\n",
    "    label_mode='categorical',\n",
    "    color_mode='rgb',\n",
    "    batch_size=batch_size,\n",
    "    image_size=img_size,\n",
    "    shuffle=True,\n",
    "    seed=SEED,\n",
    "    validation_split=0.2,\n",
    "    subset=\"both\",\n",
    "    interpolation=\"bicubic\",\n",
    "\n",
    ")\n",
    "class_names = ds_train.class_names\n",
    "n_classes = len(class_names)\n",
    "print(class_names)"
   ]
  },
  {
   "cell_type": "code",
   "execution_count": 5,
   "id": "3cd3913b",
   "metadata": {
    "execution": {
     "iopub.execute_input": "2023-11-06T18:33:00.227024Z",
     "iopub.status.busy": "2023-11-06T18:33:00.226708Z",
     "iopub.status.idle": "2023-11-06T18:33:00.650558Z",
     "shell.execute_reply": "2023-11-06T18:33:00.649544Z"
    },
    "papermill": {
     "duration": 0.433788,
     "end_time": "2023-11-06T18:33:00.652903",
     "exception": false,
     "start_time": "2023-11-06T18:33:00.219115",
     "status": "completed"
    },
    "tags": []
   },
   "outputs": [],
   "source": [
    "from tensorflow.keras import layers\n",
    "# define data augmentation\n",
    "data_augmentation = tf.keras.Sequential([\n",
    "  layers.experimental.preprocessing.RandomZoom(0.1),\n",
    "  layers.experimental.preprocessing.RandomContrast(0.2),\n",
    "    tf.keras.layers.RandomBrightness(0.2),  \n",
    "])\n",
    "\n",
    "# apply data augmentation to the training data\n",
    "ds_train = ds_train.map(\n",
    "  lambda x, y: (data_augmentation(x, training=True), y))\n",
    "\n",
    "# apply the same augmentation to the validation data\n",
    "ds_val = ds_val.map(\n",
    "  lambda x, y: (data_augmentation(x, training=True), y))"
   ]
  },
  {
   "cell_type": "code",
   "execution_count": null,
   "id": "256631ba",
   "metadata": {
    "papermill": {
     "duration": 0.006666,
     "end_time": "2023-11-06T18:33:00.666480",
     "exception": false,
     "start_time": "2023-11-06T18:33:00.659814",
     "status": "completed"
    },
    "tags": []
   },
   "outputs": [],
   "source": []
  },
  {
   "cell_type": "code",
   "execution_count": 6,
   "id": "f707a877",
   "metadata": {
    "execution": {
     "iopub.execute_input": "2023-11-06T18:33:00.681593Z",
     "iopub.status.busy": "2023-11-06T18:33:00.680868Z",
     "iopub.status.idle": "2023-11-06T18:33:00.706527Z",
     "shell.execute_reply": "2023-11-06T18:33:00.705595Z"
    },
    "papermill": {
     "duration": 0.035414,
     "end_time": "2023-11-06T18:33:00.708535",
     "exception": false,
     "start_time": "2023-11-06T18:33:00.673121",
     "status": "completed"
    },
    "tags": []
   },
   "outputs": [
    {
     "data": {
      "text/plain": [
       "{0: 47.567567567567565,\n",
       " 1: 27.5,\n",
       " 2: 10.225127087872186,\n",
       " 3: 12.471213463241806,\n",
       " 4: 5.742251223491028,\n",
       " 5: 6.342342342342342,\n",
       " 6: 37.64705882352941,\n",
       " 7: 19.830985915492956,\n",
       " 8: 62.857142857142854,\n",
       " 9: 37.64705882352941,\n",
       " 10: 19.664804469273744,\n",
       " 11: 15.609756097560975,\n",
       " 12: 70.4,\n",
       " 13: 5.193655477683512,\n",
       " 14: 23.157894736842106,\n",
       " 15: 55.43307086614173,\n",
       " 16: 24.920353982300885,\n",
       " 17: 9.798190675017397,\n",
       " 18: 43.190184049079754}"
      ]
     },
     "execution_count": 6,
     "metadata": {},
     "output_type": "execute_result"
    }
   ],
   "source": [
    "import os\n",
    "\n",
    "\n",
    "counts_per_class = []\n",
    "\n",
    "# The subdirectories in your parent directory should be your class names\n",
    "for class_dir in os.listdir(train_data_directory):\n",
    "    class_count = len(os.listdir(os.path.join(train_data_directory, class_dir)))\n",
    "    counts_per_class.append(class_count)\n",
    "\n",
    "class_weights = {}\n",
    "total_samples = len(ds_train) * batch_size\n",
    "\n",
    "for i in range(19):\n",
    "    class_weights[i] = total_samples / counts_per_class[i]\n",
    "    \n",
    "class_weights"
   ]
  },
  {
   "cell_type": "code",
   "execution_count": 7,
   "id": "bb0e11dc",
   "metadata": {
    "execution": {
     "iopub.execute_input": "2023-11-06T18:33:00.724851Z",
     "iopub.status.busy": "2023-11-06T18:33:00.724519Z",
     "iopub.status.idle": "2023-11-06T18:33:00.799977Z",
     "shell.execute_reply": "2023-11-06T18:33:00.799030Z"
    },
    "papermill": {
     "duration": 0.086202,
     "end_time": "2023-11-06T18:33:00.802263",
     "exception": false,
     "start_time": "2023-11-06T18:33:00.716061",
     "status": "completed"
    },
    "tags": []
   },
   "outputs": [],
   "source": [
    "def preprocess(x, y):\n",
    "    x = tf.keras.layers.Rescaling(1./255)(x)\n",
    "    #x = tf.image.random_flip_left_right(x) # randomly flip image\n",
    "    return x, y\n",
    "\n",
    "def test_preprocess(x):\n",
    "    x = tf.keras.layers.Rescaling(1./255)(x)\n",
    "    return x\n",
    "# preprocess the datasets by normalizing, flipping, caching and shuffling them\n",
    "ds_train = ds_train.map(preprocess).cache().prefetch(tf.data.AUTOTUNE).shuffle(len(ds_train))\n",
    "ds_val = ds_val.map(preprocess).cache().prefetch(tf.data.AUTOTUNE).shuffle(len(ds_val))\n"
   ]
  },
  {
   "cell_type": "code",
   "execution_count": 8,
   "id": "e6f97ff1",
   "metadata": {
    "execution": {
     "iopub.execute_input": "2023-11-06T18:33:00.817689Z",
     "iopub.status.busy": "2023-11-06T18:33:00.817372Z",
     "iopub.status.idle": "2023-11-06T18:33:24.523544Z",
     "shell.execute_reply": "2023-11-06T18:33:24.522400Z"
    },
    "papermill": {
     "duration": 23.71624,
     "end_time": "2023-11-06T18:33:24.525658",
     "exception": false,
     "start_time": "2023-11-06T18:33:00.809418",
     "status": "completed"
    },
    "tags": []
   },
   "outputs": [
    {
     "name": "stdout",
     "output_type": "stream",
     "text": [
      "Train dataset image shape:  (256, 18, 32, 3)\n",
      "Validation dataset image shape:  (256, 18, 32, 3)\n",
      "Number of batches in train dataset:  55\n",
      "Number of batches in validation dataset:  14\n"
     ]
    }
   ],
   "source": [
    "# Take one sample from the training dataset\n",
    "for image, label in ds_train.take(1):\n",
    "    # Now image is a single example from your dataset, so you can check its shape:\n",
    "    print('Train dataset image shape: ', image.shape)\n",
    "\n",
    "# Repeat the process for the validation dataset\n",
    "for image, label in ds_val.take(1):\n",
    "    print('Validation dataset image shape: ', image.shape)\n",
    "    \n",
    "    # Number of batches in the training dataset\n",
    "print('Number of batches in train dataset: ', len(list(ds_train)))\n",
    "\n",
    "# Number of batches in the validation dataset\n",
    "print('Number of batches in validation dataset: ', len(list(ds_val)))"
   ]
  },
  {
   "cell_type": "code",
   "execution_count": 9,
   "id": "2719bc9e",
   "metadata": {
    "execution": {
     "iopub.execute_input": "2023-11-06T18:33:24.541452Z",
     "iopub.status.busy": "2023-11-06T18:33:24.541105Z",
     "iopub.status.idle": "2023-11-06T18:33:25.317411Z",
     "shell.execute_reply": "2023-11-06T18:33:25.316395Z"
    },
    "papermill": {
     "duration": 0.786503,
     "end_time": "2023-11-06T18:33:25.319472",
     "exception": false,
     "start_time": "2023-11-06T18:33:24.532969",
     "status": "completed"
    },
    "tags": []
   },
   "outputs": [
    {
     "data": {
      "image/png": "[encoded data removed]",
      "text/plain": [
       "<Figure size 640x480 with 9 Axes>"
      ]
     },
     "metadata": {},
     "output_type": "display_data"
    }
   ],
   "source": [
    "# As a demonstration, let's visualize some pieces of data\n",
    "def visualize_examples():\n",
    "    one_batch = ds_train\n",
    "    grid_size = 3\n",
    "    fig, axs = plt.subplots(grid_size, grid_size)\n",
    "    fig.tight_layout()\n",
    "    for images, labels in one_batch:\n",
    "        for i, data in enumerate(zip(images, labels)):\n",
    "            if i >= grid_size * grid_size:\n",
    "                break\n",
    "            image, label = data\n",
    "            axs[i // grid_size, i % grid_size].imshow(image)\n",
    "            axs[i // grid_size, i % grid_size].set_title(class_names[np.argmax(label)])\n",
    "            axs[i // grid_size, i % grid_size].set_axis_off()\n",
    "        break\n",
    "    plt.show()\n",
    "visualize_examples()"
   ]
  },
  {
   "cell_type": "code",
   "execution_count": 10,
   "id": "b730fbe3",
   "metadata": {
    "execution": {
     "iopub.execute_input": "2023-11-06T18:33:25.337318Z",
     "iopub.status.busy": "2023-11-06T18:33:25.336537Z",
     "iopub.status.idle": "2023-11-06T18:33:25.341987Z",
     "shell.execute_reply": "2023-11-06T18:33:25.341106Z"
    },
    "papermill": {
     "duration": 0.016322,
     "end_time": "2023-11-06T18:33:25.343966",
     "exception": false,
     "start_time": "2023-11-06T18:33:25.327644",
     "status": "completed"
    },
    "tags": []
   },
   "outputs": [],
   "source": [
    "from keras.callbacks import EarlyStopping\n",
    "from keras.callbacks import ReduceLROnPlateau\n",
    "\n",
    "early_stop = EarlyStopping(monitor='val_accuracy', patience=6, verbose=6, restore_best_weights=True, mode='auto')\n",
    "reduce_lr = ReduceLROnPlateau(monitor='val_loss', factor=0.1, patience=4, min_lr=0.00001, verbose=1)"
   ]
  },
  {
   "cell_type": "code",
   "execution_count": 11,
   "id": "ee1bf1fc",
   "metadata": {
    "execution": {
     "iopub.execute_input": "2023-11-06T18:33:25.361405Z",
     "iopub.status.busy": "2023-11-06T18:33:25.361068Z",
     "iopub.status.idle": "2023-11-06T18:33:25.370735Z",
     "shell.execute_reply": "2023-11-06T18:33:25.369838Z"
    },
    "papermill": {
     "duration": 0.020694,
     "end_time": "2023-11-06T18:33:25.372628",
     "exception": false,
     "start_time": "2023-11-06T18:33:25.351934",
     "status": "completed"
    },
    "tags": []
   },
   "outputs": [
    {
     "data": {
      "text/plain": [
       "'from keras.models import Sequential\\nfrom keras.optimizers import Adam\\nfrom keras.layers import Dense, Dropout, Flatten, Conv2D, MaxPooling2D, BatchNormalization, Resizing\\nfrom keras_tuner import HyperModel, RandomSearch\\n\\ninit_shape=(18, 32, 3)\\ninput_shape=(32, 64, 3)\\n\\nclass BiomeClassifierHyperModel(HyperModel):\\n    def build(self, hp):\\n        model = Sequential([\\n            # First convolution block\\n            Resizing(32, 64, interpolation=\"bicubic\", input_shape=init_shape),\\n            Conv2D(filters=hp.Int(\\'conv_1_filters\\', min_value=32, max_value=128, step=16), kernel_size=(3, 3), activation=\\'relu\\', padding=\\'same\\', kernel_initializer=\"he_normal\"),\\n            BatchNormalization(),\\n            Conv2D(filters=hp.Int(\\'conv_2_filters\\', min_value=32, max_value=128, step=16), kernel_size=(3, 3), activation=\\'relu\\', padding=\\'same\\', kernel_initializer=\"he_normal\"),\\n            BatchNormalization(),\\n            MaxPooling2D(pool_size=(2, 2)),\\n\\n            # Second convolution block\\n            Conv2D(filters=hp.Int(\\'conv_3_filters\\', min_value=64, max_value=256, step=32), kernel_size=(3, 3), activation=\\'relu\\', padding=\\'same\\', kernel_initializer=\"he_normal\"),\\n            BatchNormalization(),\\n            Conv2D(filters=hp.Int(\\'conv_4_filters\\', min_value=64, max_value=256, step=32), kernel_size=(3, 3), activation=\\'relu\\', padding=\\'same\\', kernel_initializer=\"he_normal\"),\\n            BatchNormalization(),\\n            MaxPooling2D(pool_size=(2, 2)),\\n\\n            # Third convolution block\\n            Conv2D(filters=hp.Int(\\'conv_5_filters\\', min_value=128, max_value=512, step=64), kernel_size=(3, 3), activation=\\'relu\\', padding=\\'same\\', kernel_initializer=\"he_normal\"),\\n            BatchNormalization(),\\n            Conv2D(filters=hp.Int(\\'conv_6_filters\\', min_value=128, max_value=512, step=64), kernel_size=(3, 3), activation=\\'relu\\', padding=\\'same\\', kernel_initializer=\"he_normal\"),\\n            BatchNormalization(),\\n            MaxPooling2D(pool_size=(2, 2)),\\n\\n            # Flatten the tensor output\\n            Flatten(),\\n\\n            # Fully connected layers\\n            Dense(hp.Int(\\'dense_1_units\\', min_value=256, max_value=1024, step=128), activation=\\'relu\\'),\\n            BatchNormalization(),\\n            Dropout(rate=hp.Float(\\'dropout_1_rate\\', min_value=0.0, max_value=0.6, step=0.1)),\\n            Dense(hp.Int(\\'dense_2_units\\', min_value=256, max_value=1024, step=128), activation=\\'relu\\'),\\n            BatchNormalization(),\\n            Dropout(rate=hp.Float(\\'dropout_2_rate\\', min_value=0.0, max_value=0.6, step=0.1)),\\n\\n            # Output layer\\n            Dense(19, activation=\\'softmax\\')\\n        ])\\n        \\n        model.compile(\\n            optimizer=Adam(learning_rate=hp.Choice(\\'learning_rate\\', values=[1e-2, 1e-3, 1e-4])),\\n            loss=\\'categorical_crossentropy\\',\\n            metrics=[\\'accuracy\\']\\n        )\\n        \\n        return model\\n\\nhypermodel = BiomeClassifierHyperModel()\\n\\ntuner = RandomSearch(\\n    hypermodel,\\n    objective=\\'val_accuracy\\',\\n    max_trials=10,\\n    directory=\\'output\\',\\n    project_name=\\'BiomeClassifier\\'\\n)\\n\\n# Replace X_train, X_val, y_train, y_val with your data\\ntuner.search(ds_train, epochs=100, validation_data=ds_val, callbacks = [reduce_lr, early_stop])'"
      ]
     },
     "execution_count": 11,
     "metadata": {},
     "output_type": "execute_result"
    }
   ],
   "source": [
    "\"\"\"from keras.models import Sequential\n",
    "from keras.optimizers import Adam\n",
    "from keras.layers import Dense, Dropout, Flatten, Conv2D, MaxPooling2D, BatchNormalization, Resizing\n",
    "from keras_tuner import HyperModel, RandomSearch\n",
    "\n",
    "init_shape=(18, 32, 3)\n",
    "input_shape=(32, 64, 3)\n",
    "\n",
    "class BiomeClassifierHyperModel(HyperModel):\n",
    "    def build(self, hp):\n",
    "        model = Sequential([\n",
    "            # First convolution block\n",
    "            Resizing(32, 64, interpolation=\"bicubic\", input_shape=init_shape),\n",
    "            Conv2D(filters=hp.Int('conv_1_filters', min_value=32, max_value=128, step=16), kernel_size=(3, 3), activation='relu', padding='same', kernel_initializer=\"he_normal\"),\n",
    "            BatchNormalization(),\n",
    "            Conv2D(filters=hp.Int('conv_2_filters', min_value=32, max_value=128, step=16), kernel_size=(3, 3), activation='relu', padding='same', kernel_initializer=\"he_normal\"),\n",
    "            BatchNormalization(),\n",
    "            MaxPooling2D(pool_size=(2, 2)),\n",
    "\n",
    "            # Second convolution block\n",
    "            Conv2D(filters=hp.Int('conv_3_filters', min_value=64, max_value=256, step=32), kernel_size=(3, 3), activation='relu', padding='same', kernel_initializer=\"he_normal\"),\n",
    "            BatchNormalization(),\n",
    "            Conv2D(filters=hp.Int('conv_4_filters', min_value=64, max_value=256, step=32), kernel_size=(3, 3), activation='relu', padding='same', kernel_initializer=\"he_normal\"),\n",
    "            BatchNormalization(),\n",
    "            MaxPooling2D(pool_size=(2, 2)),\n",
    "\n",
    "            # Third convolution block\n",
    "            Conv2D(filters=hp.Int('conv_5_filters', min_value=128, max_value=512, step=64), kernel_size=(3, 3), activation='relu', padding='same', kernel_initializer=\"he_normal\"),\n",
    "            BatchNormalization(),\n",
    "            Conv2D(filters=hp.Int('conv_6_filters', min_value=128, max_value=512, step=64), kernel_size=(3, 3), activation='relu', padding='same', kernel_initializer=\"he_normal\"),\n",
    "            BatchNormalization(),\n",
    "            MaxPooling2D(pool_size=(2, 2)),\n",
    "\n",
    "            # Flatten the tensor output\n",
    "            Flatten(),\n",
    "\n",
    "            # Fully connected layers\n",
    "            Dense(hp.Int('dense_1_units', min_value=256, max_value=1024, step=128), activation='relu'),\n",
    "            BatchNormalization(),\n",
    "            Dropout(rate=hp.Float('dropout_1_rate', min_value=0.0, max_value=0.6, step=0.1)),\n",
    "            Dense(hp.Int('dense_2_units', min_value=256, max_value=1024, step=128), activation='relu'),\n",
    "            BatchNormalization(),\n",
    "            Dropout(rate=hp.Float('dropout_2_rate', min_value=0.0, max_value=0.6, step=0.1)),\n",
    "\n",
    "            # Output layer\n",
    "            Dense(19, activation='softmax')\n",
    "        ])\n",
    "        \n",
    "        model.compile(\n",
    "            optimizer=Adam(learning_rate=hp.Choice('learning_rate', values=[1e-2, 1e-3, 1e-4])),\n",
    "            loss='categorical_crossentropy',\n",
    "            metrics=['accuracy']\n",
    "        )\n",
    "        \n",
    "        return model\n",
    "\n",
    "hypermodel = BiomeClassifierHyperModel()\n",
    "\n",
    "tuner = RandomSearch(\n",
    "    hypermodel,\n",
    "    objective='val_accuracy',\n",
    "    max_trials=10,\n",
    "    directory='output',\n",
    "    project_name='BiomeClassifier'\n",
    ")\n",
    "\n",
    "# Replace X_train, X_val, y_train, y_val with your data\n",
    "tuner.search(ds_train, epochs=100, validation_data=ds_val, callbacks = [reduce_lr, early_stop])\"\"\""
   ]
  },
  {
   "cell_type": "markdown",
   "id": "3417d1a0",
   "metadata": {
    "execution": {
     "iopub.execute_input": "2023-07-18T01:01:15.163632Z",
     "iopub.status.busy": "2023-07-18T01:01:15.162776Z"
    },
    "papermill": {
     "duration": 0.007947,
     "end_time": "2023-11-06T18:33:25.388733",
     "exception": false,
     "start_time": "2023-11-06T18:33:25.380786",
     "status": "completed"
    },
    "tags": []
   },
   "source": [
    "from keras_tuner import BayesianOptimization\n",
    "num_trials = 200\n",
    "\n",
    "def model_builder(hp):\n",
    "    model = tf.keras.Sequential()\n",
    "    \n",
    "    model.add(tf.keras.layers.Resizing(32, 64, interpolation=\"bicubic\", input_shape=(18,32,3)))\n",
    "    \n",
    "    # Tune the number of filters in the first Conv2D layer\n",
    "    hp_filters = hp.Int('filters', min_value=32, max_value=256, step=32)\n",
    "    model.add(tf.keras.layers.Conv2D(filters=hp_filters, kernel_size=(3, 3), activation='relu', padding='same', kernel_initializer=\"he_normal\"))\n",
    "    model.add(tf.keras.layers.BatchNormalization())\n",
    "    model.add(tf.keras.layers.Conv2D(filters=hp_filters, kernel_size=(3, 3), activation='relu', padding='same', kernel_initializer=\"he_normal\"))\n",
    "    model.add(tf.keras.layers.BatchNormalization())\n",
    "    model.add(tf.keras.layers.MaxPool2D(pool_size=(2, 2)))\n",
    "\n",
    "    # Repeat this block two more times\n",
    "    for i in range(2):\n",
    "        model.add(tf.keras.layers.Conv2D(filters=hp_filters*(2**(i+1)), kernel_size=(3, 3), activation='relu', padding='same', kernel_initializer=\"he_normal\"))\n",
    "        model.add(tf.keras.layers.BatchNormalization())\n",
    "        model.add(tf.keras.layers.Conv2D(filters=hp_filters*(2**(i+1)), kernel_size=(3, 3), activation='relu', padding='same', kernel_initializer=\"he_normal\"))\n",
    "        model.add(tf.keras.layers.BatchNormalization())\n",
    "        model.add(tf.keras.layers.MaxPool2D(pool_size=(2, 2)))\n",
    "\n",
    "    model.add(tf.keras.layers.Flatten())\n",
    "    # Tune the dropout rate\n",
    "    hp_dropout = hp.Float('dropout', min_value=0.1, max_value=0.6, step=0.05)\n",
    "    \n",
    "    # Tune the number of units in the Dense layer\n",
    "    hp_units = hp.Int('units', min_value=32, max_value=1028, step=32)\n",
    "    model.add(tf.keras.layers.Dense(units=hp_units, activation='relu'))\n",
    "    model.add(tf.keras.layers.BatchNormalization())\n",
    "    model.add(tf.keras.layers.Dropout(hp_dropout))\n",
    "    model.add(tf.keras.layers.Dense(units=hp_units, activation='relu'))\n",
    "    model.add(tf.keras.layers.BatchNormalization())\n",
    "    model.add(tf.keras.layers.Dropout(hp_dropout))\n",
    "\n",
    "    model.add(tf.keras.layers.Dense(19, activation='softmax'))\n",
    "    \n",
    "    \n",
    "    model.compile(loss='categorical_crossentropy',\n",
    "              optimizer='Nadam',\n",
    "              metrics=['accuracy'])\n",
    "\n",
    "    return model\n",
    "\n",
    "# Initialize the tuner\n",
    "tuner = BayesianOptimization(\n",
    "    model_builder,\n",
    "    objective='val_accuracy',\n",
    "    max_trials=num_trials,\n",
    "    executions_per_trial=3,\n",
    "    directory='my_dir',\n",
    "    project_name='keras_tuner_bayesian_optimization')\n",
    "\n",
    "# Perform the hyperparameter tuning\n",
    "tuner.search(ds_train,\n",
    "             epochs=100,\n",
    "             validation_data=ds_val,\n",
    "            callbacks = [early_stop, reduce_lr])"
   ]
  },
  {
   "cell_type": "markdown",
   "id": "f2264388",
   "metadata": {
    "papermill": {
     "duration": 0.007914,
     "end_time": "2023-11-06T18:33:25.404627",
     "exception": false,
     "start_time": "2023-11-06T18:33:25.396713",
     "status": "completed"
    },
    "tags": []
   },
   "source": [
    "best_hps=tuner.get_best_hyperparameters(num_trials=num_trials)[0]\n",
    "\n",
    "print(f\"\"\"\n",
    "The hyperparameter search is complete. The optimal number of units in the first densely-connected\n",
    "layer is {best_hps.get('units')}, and the Dense layer {best_hps.get('filters')}, and the best droput {best_hps.get('dropout')}.\n",
    "\"\"\")"
   ]
  },
  {
   "cell_type": "markdown",
   "id": "f91a3c8a",
   "metadata": {
    "papermill": {
     "duration": 0.007853,
     "end_time": "2023-11-06T18:33:25.420509",
     "exception": false,
     "start_time": "2023-11-06T18:33:25.412656",
     "status": "completed"
    },
    "tags": []
   },
   "source": [
    "best_model = model = tuner.hypermodel.build(best_hps)"
   ]
  },
  {
   "cell_type": "code",
   "execution_count": 12,
   "id": "a6c251b5",
   "metadata": {
    "execution": {
     "iopub.execute_input": "2023-11-06T18:33:25.438821Z",
     "iopub.status.busy": "2023-11-06T18:33:25.437919Z",
     "iopub.status.idle": "2023-11-06T18:33:25.784075Z",
     "shell.execute_reply": "2023-11-06T18:33:25.783132Z"
    },
    "papermill": {
     "duration": 0.374628,
     "end_time": "2023-11-06T18:33:25.803237",
     "exception": false,
     "start_time": "2023-11-06T18:33:25.428609",
     "status": "completed"
    },
    "tags": []
   },
   "outputs": [
    {
     "name": "stdout",
     "output_type": "stream",
     "text": [
      "Model: \"sequential_1\"\n",
      "_________________________________________________________________\n",
      " Layer (type)                Output Shape              Param #   \n",
      "=================================================================\n",
      " conv2d (Conv2D)             (None, 18, 32, 256)       7168      \n",
      "                                                                 \n",
      " batch_normalization (BatchN  (None, 18, 32, 256)      1024      \n",
      " ormalization)                                                   \n",
      "                                                                 \n",
      " conv2d_1 (Conv2D)           (None, 18, 32, 256)       590080    \n",
      "                                                                 \n",
      " batch_normalization_1 (Batc  (None, 18, 32, 256)      1024      \n",
      " hNormalization)                                                 \n",
      "                                                                 \n",
      " max_pooling2d (MaxPooling2D  (None, 9, 16, 256)       0         \n",
      " )                                                               \n",
      "                                                                 \n",
      " conv2d_2 (Conv2D)           (None, 9, 16, 512)        1180160   \n",
      "                                                                 \n",
      " batch_normalization_2 (Batc  (None, 9, 16, 512)       2048      \n",
      " hNormalization)                                                 \n",
      "                                                                 \n",
      " conv2d_3 (Conv2D)           (None, 9, 16, 512)        2359808   \n",
      "                                                                 \n",
      " batch_normalization_3 (Batc  (None, 9, 16, 512)       2048      \n",
      " hNormalization)                                                 \n",
      "                                                                 \n",
      " max_pooling2d_1 (MaxPooling  (None, 4, 8, 512)        0         \n",
      " 2D)                                                             \n",
      "                                                                 \n",
      " conv2d_4 (Conv2D)           (None, 4, 8, 1024)        4719616   \n",
      "                                                                 \n",
      " batch_normalization_4 (Batc  (None, 4, 8, 1024)       4096      \n",
      " hNormalization)                                                 \n",
      "                                                                 \n",
      " conv2d_5 (Conv2D)           (None, 4, 8, 1024)        9438208   \n",
      "                                                                 \n",
      " batch_normalization_5 (Batc  (None, 4, 8, 1024)       4096      \n",
      " hNormalization)                                                 \n",
      "                                                                 \n",
      " max_pooling2d_2 (MaxPooling  (None, 2, 4, 1024)       0         \n",
      " 2D)                                                             \n",
      "                                                                 \n",
      " flatten (Flatten)           (None, 8192)              0         \n",
      "                                                                 \n",
      " dense (Dense)               (None, 512)               4194816   \n",
      "                                                                 \n",
      " batch_normalization_6 (Batc  (None, 512)              2048      \n",
      " hNormalization)                                                 \n",
      "                                                                 \n",
      " dropout (Dropout)           (None, 512)               0         \n",
      "                                                                 \n",
      " dense_1 (Dense)             (None, 256)               131328    \n",
      "                                                                 \n",
      " batch_normalization_7 (Batc  (None, 256)              1024      \n",
      " hNormalization)                                                 \n",
      "                                                                 \n",
      " dropout_1 (Dropout)         (None, 256)               0         \n",
      "                                                                 \n",
      " dense_2 (Dense)             (None, 19)                4883      \n",
      "                                                                 \n",
      "=================================================================\n",
      "Total params: 22,643,475\n",
      "Trainable params: 22,634,771\n",
      "Non-trainable params: 8,704\n",
      "_________________________________________________________________\n"
     ]
    }
   ],
   "source": [
    "from keras.models import Sequential\n",
    "from keras.optimizers import Adam\n",
    "from keras.layers import Dense, Dropout, Flatten, Conv2D, MaxPooling2D, BatchNormalization, Resizing\n",
    "\n",
    "init_shape=(18, 32, 3)\n",
    "input_shape=(32, 64, 3)\n",
    "\n",
    "\n",
    "model = tf.keras.Sequential([\n",
    "    # First convolution block\n",
    "   # Resizing(32, 64, interpolation=\"bicubic\", input_shape=init_shape),\n",
    "    tf.keras.layers.Conv2D(filters=256, kernel_size=(3, 3), activation='relu', padding='same',kernel_initializer=\"he_normal\", input_shape=init_shape),\n",
    "    tf.keras.layers.BatchNormalization(),\n",
    "    tf.keras.layers.Conv2D(filters=256, kernel_size=(3, 3), activation='relu', padding='same', kernel_initializer=\"he_normal\"),\n",
    "    tf.keras.layers.BatchNormalization(),\n",
    "    tf.keras.layers.MaxPool2D(pool_size=(2, 2)),\n",
    "\n",
    "    # Second convolution block\n",
    "    tf.keras.layers.Conv2D(filters=512, kernel_size=(3, 3), activation='relu', padding='same', kernel_initializer=\"he_normal\"),\n",
    "    tf.keras.layers.BatchNormalization(),\n",
    "    tf.keras.layers.Conv2D(filters=512, kernel_size=(3, 3), activation='relu', padding='same', kernel_initializer=\"he_normal\"),\n",
    "    tf.keras.layers.BatchNormalization(),\n",
    "    tf.keras.layers.MaxPool2D(pool_size=(2, 2)),\n",
    "\n",
    "    # Third convolution block\n",
    "    tf.keras.layers.Conv2D(filters=1024, kernel_size=(3, 3), activation='relu', padding='same', kernel_initializer=\"he_normal\"),\n",
    "    tf.keras.layers.BatchNormalization(),\n",
    "    tf.keras.layers.Conv2D(filters=1024, kernel_size=(3, 3), activation='relu', padding='same', kernel_initializer=\"he_normal\"),\n",
    "    tf.keras.layers.BatchNormalization(),\n",
    "    tf.keras.layers.MaxPool2D(pool_size=(2, 2)),\n",
    "\n",
    "    # Flatten the tensor output\n",
    "    tf.keras.layers.Flatten(),\n",
    "\n",
    "    # Fully connected layers\n",
    "    tf.keras.layers.Dense(512, activation='relu'),\n",
    "    tf.keras.layers.BatchNormalization(),\n",
    "    tf.keras.layers.Dropout(rate=0.45),\n",
    "    tf.keras.layers.Dense(256, activation='relu'),\n",
    "    tf.keras.layers.BatchNormalization(),\n",
    "    tf.keras.layers.Dropout(rate=0.45),\n",
    "\n",
    "    # Output layer\n",
    "    tf.keras.layers.Dense(19, activation='softmax')\n",
    "])\n",
    "\n",
    "\n",
    "\n",
    "model.compile(loss='categorical_crossentropy',\n",
    "              optimizer='Nadam',\n",
    "              metrics=['accuracy'])\n",
    "\n",
    "model.build()\n",
    "\n",
    "model.summary()"
   ]
  },
  {
   "cell_type": "code",
   "execution_count": 13,
   "id": "518513a1",
   "metadata": {
    "execution": {
     "iopub.execute_input": "2023-11-06T18:33:25.831066Z",
     "iopub.status.busy": "2023-11-06T18:33:25.830724Z",
     "iopub.status.idle": "2023-11-06T18:33:25.836509Z",
     "shell.execute_reply": "2023-11-06T18:33:25.835673Z"
    },
    "papermill": {
     "duration": 0.022108,
     "end_time": "2023-11-06T18:33:25.838584",
     "exception": false,
     "start_time": "2023-11-06T18:33:25.816476",
     "status": "completed"
    },
    "tags": []
   },
   "outputs": [
    {
     "name": "stdout",
     "output_type": "stream",
     "text": [
      "23\n"
     ]
    }
   ],
   "source": [
    "def count_layers(model):\n",
    "   num_layers = len(model.layers)\n",
    "   for layer in model.layers:\n",
    "      if isinstance(layer, tf.keras.Model):\n",
    "         num_layers += count_layers(layer)\n",
    "   return num_layers\n",
    "\n",
    "n_layers = count_layers(model)\n",
    "print(n_layers)\n",
    "# check that the number of layers is matching the rules\n",
    "#assert n_layers <= 22"
   ]
  },
  {
   "cell_type": "code",
   "execution_count": 14,
   "id": "a1a61d18",
   "metadata": {
    "execution": {
     "iopub.execute_input": "2023-11-06T18:33:25.866441Z",
     "iopub.status.busy": "2023-11-06T18:33:25.865878Z",
     "iopub.status.idle": "2023-11-06T18:39:15.045335Z",
     "shell.execute_reply": "2023-11-06T18:39:15.044369Z"
    },
    "papermill": {
     "duration": 349.195654,
     "end_time": "2023-11-06T18:39:15.047337",
     "exception": false,
     "start_time": "2023-11-06T18:33:25.851683",
     "status": "completed"
    },
    "tags": []
   },
   "outputs": [
    {
     "name": "stdout",
     "output_type": "stream",
     "text": [
      "Epoch 1/100\n",
      "55/55 [==============================] - 34s 209ms/step - loss: 51.8523 - accuracy: 0.4664 - val_loss: 10.1896 - val_accuracy: 0.1156 - lr: 0.0010\n",
      "Epoch 2/100\n",
      "55/55 [==============================] - 8s 142ms/step - loss: 30.4456 - accuracy: 0.6081 - val_loss: 2.2296 - val_accuracy: 0.3747 - lr: 0.0010\n",
      "Epoch 3/100\n",
      "55/55 [==============================] - 8s 142ms/step - loss: 25.5174 - accuracy: 0.6543 - val_loss: 2.8964 - val_accuracy: 0.3768 - lr: 0.0010\n",
      "Epoch 4/100\n",
      "55/55 [==============================] - 8s 140ms/step - loss: 22.2645 - accuracy: 0.6830 - val_loss: 2.7554 - val_accuracy: 0.3172 - lr: 0.0010\n",
      "Epoch 5/100\n",
      "55/55 [==============================] - 8s 141ms/step - loss: 20.0757 - accuracy: 0.7077 - val_loss: 2.4753 - val_accuracy: 0.3822 - lr: 0.0010\n",
      "Epoch 6/100\n",
      "55/55 [==============================] - 8s 142ms/step - loss: 18.2993 - accuracy: 0.7219 - val_loss: 1.7414 - val_accuracy: 0.5177 - lr: 0.0010\n",
      "Epoch 7/100\n",
      "55/55 [==============================] - 8s 141ms/step - loss: 16.3923 - accuracy: 0.7377 - val_loss: 1.8602 - val_accuracy: 0.4964 - lr: 0.0010\n",
      "Epoch 8/100\n",
      "55/55 [==============================] - 8s 142ms/step - loss: 15.3082 - accuracy: 0.7535 - val_loss: 1.6768 - val_accuracy: 0.5444 - lr: 0.0010\n",
      "Epoch 9/100\n",
      "55/55 [==============================] - 8s 142ms/step - loss: 14.1532 - accuracy: 0.7646 - val_loss: 1.1971 - val_accuracy: 0.6402 - lr: 0.0010\n",
      "Epoch 10/100\n",
      "55/55 [==============================] - 8s 142ms/step - loss: 12.8546 - accuracy: 0.7765 - val_loss: 1.1926 - val_accuracy: 0.6575 - lr: 0.0010\n",
      "Epoch 11/100\n",
      "55/55 [==============================] - 8s 142ms/step - loss: 11.9929 - accuracy: 0.7853 - val_loss: 0.9970 - val_accuracy: 0.7210 - lr: 0.0010\n",
      "Epoch 12/100\n",
      "55/55 [==============================] - 8s 140ms/step - loss: 11.0777 - accuracy: 0.7973 - val_loss: 1.1384 - val_accuracy: 0.6903 - lr: 0.0010\n",
      "Epoch 13/100\n",
      "55/55 [==============================] - 8s 142ms/step - loss: 10.7667 - accuracy: 0.8019 - val_loss: 0.9851 - val_accuracy: 0.7242 - lr: 0.0010\n",
      "Epoch 14/100\n",
      "55/55 [==============================] - 8s 140ms/step - loss: 9.5862 - accuracy: 0.8136 - val_loss: 1.1845 - val_accuracy: 0.6701 - lr: 0.0010\n",
      "Epoch 15/100\n",
      "55/55 [==============================] - 8s 140ms/step - loss: 8.5529 - accuracy: 0.8250 - val_loss: 1.1176 - val_accuracy: 0.7101 - lr: 0.0010\n",
      "Epoch 16/100\n",
      "55/55 [==============================] - 8s 142ms/step - loss: 7.8235 - accuracy: 0.8336 - val_loss: 0.9691 - val_accuracy: 0.7469 - lr: 0.0010\n",
      "Epoch 17/100\n",
      "55/55 [==============================] - 8s 140ms/step - loss: 7.2698 - accuracy: 0.8412 - val_loss: 1.0600 - val_accuracy: 0.7343 - lr: 0.0010\n",
      "Epoch 18/100\n",
      "55/55 [==============================] - 8s 141ms/step - loss: 7.0212 - accuracy: 0.8487 - val_loss: 1.2116 - val_accuracy: 0.7262 - lr: 0.0010\n",
      "Epoch 19/100\n",
      "55/55 [==============================] - 8s 140ms/step - loss: 6.2531 - accuracy: 0.8566 - val_loss: 1.2734 - val_accuracy: 0.6856 - lr: 0.0010\n",
      "Epoch 20/100\n",
      "55/55 [==============================] - 8s 142ms/step - loss: 5.4269 - accuracy: 0.8661 - val_loss: 0.9469 - val_accuracy: 0.7489 - lr: 0.0010\n",
      "Epoch 21/100\n",
      "55/55 [==============================] - 8s 140ms/step - loss: 5.0781 - accuracy: 0.8745 - val_loss: 1.0342 - val_accuracy: 0.7348 - lr: 0.0010\n",
      "Epoch 22/100\n",
      "55/55 [==============================] - 8s 140ms/step - loss: 4.7596 - accuracy: 0.8823 - val_loss: 1.0685 - val_accuracy: 0.7345 - lr: 0.0010\n",
      "Epoch 23/100\n",
      "55/55 [==============================] - 8s 140ms/step - loss: 4.5439 - accuracy: 0.8828 - val_loss: 1.0740 - val_accuracy: 0.7394 - lr: 0.0010\n",
      "Epoch 24/100\n",
      "55/55 [==============================] - ETA: 0s - loss: 4.4893 - accuracy: 0.8842\n",
      "Epoch 24: ReduceLROnPlateau reducing learning rate to 0.00010000000474974513.\n",
      "55/55 [==============================] - 8s 140ms/step - loss: 4.4893 - accuracy: 0.8842 - val_loss: 1.1168 - val_accuracy: 0.7371 - lr: 0.0010\n",
      "Epoch 25/100\n",
      "55/55 [==============================] - 8s 142ms/step - loss: 3.1872 - accuracy: 0.9054 - val_loss: 0.9047 - val_accuracy: 0.7702 - lr: 1.0000e-04\n",
      "Epoch 26/100\n",
      "55/55 [==============================] - 8s 142ms/step - loss: 2.3168 - accuracy: 0.9179 - val_loss: 0.8765 - val_accuracy: 0.7774 - lr: 1.0000e-04\n",
      "Epoch 27/100\n",
      "55/55 [==============================] - 8s 140ms/step - loss: 2.1162 - accuracy: 0.9241 - val_loss: 0.8717 - val_accuracy: 0.7716 - lr: 1.0000e-04\n",
      "Epoch 28/100\n",
      "55/55 [==============================] - 8s 142ms/step - loss: 1.9275 - accuracy: 0.9282 - val_loss: 0.8600 - val_accuracy: 0.7797 - lr: 1.0000e-04\n",
      "Epoch 29/100\n",
      "55/55 [==============================] - 8s 140ms/step - loss: 1.8048 - accuracy: 0.9324 - val_loss: 0.8712 - val_accuracy: 0.7774 - lr: 1.0000e-04\n",
      "Epoch 30/100\n",
      "55/55 [==============================] - 8s 140ms/step - loss: 1.6656 - accuracy: 0.9359 - val_loss: 0.8697 - val_accuracy: 0.7794 - lr: 1.0000e-04\n",
      "Epoch 31/100\n",
      "55/55 [==============================] - 8s 141ms/step - loss: 1.6011 - accuracy: 0.9386 - val_loss: 0.8773 - val_accuracy: 0.7794 - lr: 1.0000e-04\n",
      "Epoch 32/100\n",
      "55/55 [==============================] - ETA: 0s - loss: 1.5134 - accuracy: 0.9400\n",
      "Epoch 32: ReduceLROnPlateau reducing learning rate to 1.0000000474974514e-05.\n",
      "55/55 [==============================] - 8s 140ms/step - loss: 1.5134 - accuracy: 0.9400 - val_loss: 0.8877 - val_accuracy: 0.7774 - lr: 1.0000e-04\n",
      "Epoch 33/100\n",
      "55/55 [==============================] - 8s 142ms/step - loss: 1.3936 - accuracy: 0.9427 - val_loss: 0.8868 - val_accuracy: 0.7806 - lr: 1.0000e-05\n",
      "Epoch 34/100\n",
      "55/55 [==============================] - 8s 142ms/step - loss: 1.4149 - accuracy: 0.9444 - val_loss: 0.8885 - val_accuracy: 0.7808 - lr: 1.0000e-05\n",
      "Epoch 35/100\n",
      "55/55 [==============================] - 8s 142ms/step - loss: 1.3598 - accuracy: 0.9449 - val_loss: 0.8877 - val_accuracy: 0.7829 - lr: 1.0000e-05\n",
      "Epoch 36/100\n",
      "55/55 [==============================] - ETA: 0s - loss: 1.3673 - accuracy: 0.9445\n",
      "Epoch 36: ReduceLROnPlateau reducing learning rate to 1e-05.\n",
      "55/55 [==============================] - 8s 140ms/step - loss: 1.3673 - accuracy: 0.9445 - val_loss: 0.8888 - val_accuracy: 0.7826 - lr: 1.0000e-05\n",
      "Epoch 37/100\n",
      "55/55 [==============================] - 8s 140ms/step - loss: 1.3612 - accuracy: 0.9441 - val_loss: 0.8899 - val_accuracy: 0.7820 - lr: 1.0000e-05\n",
      "Epoch 38/100\n",
      "55/55 [==============================] - 8s 140ms/step - loss: 1.3283 - accuracy: 0.9451 - val_loss: 0.8918 - val_accuracy: 0.7817 - lr: 1.0000e-05\n",
      "Epoch 39/100\n",
      "55/55 [==============================] - 8s 141ms/step - loss: 1.3272 - accuracy: 0.9455 - val_loss: 0.8930 - val_accuracy: 0.7817 - lr: 1.0000e-05\n",
      "Epoch 40/100\n",
      "55/55 [==============================] - 8s 140ms/step - loss: 1.3216 - accuracy: 0.9463 - val_loss: 0.8954 - val_accuracy: 0.7808 - lr: 1.0000e-05\n",
      "Epoch 41/100\n",
      "55/55 [==============================] - ETA: 0s - loss: 1.2864 - accuracy: 0.9472Restoring model weights from the end of the best epoch: 35.\n",
      "55/55 [==============================] - 8s 142ms/step - loss: 1.2864 - accuracy: 0.9472 - val_loss: 0.8957 - val_accuracy: 0.7814 - lr: 1.0000e-05\n",
      "Epoch 41: early stopping\n"
     ]
    }
   ],
   "source": [
    "\n",
    "# calculate the number of batches in the train set\n",
    "num_batches_train = tf.data.experimental.cardinality(ds_train).numpy()\n",
    "\n",
    "# calculate the number of batches in the validation set\n",
    "num_batches_val = tf.data.experimental.cardinality(ds_val).numpy()\n",
    "\n",
    "\n",
    "history1 = model.fit(\n",
    "    ds_train,\n",
    "    epochs=100,\n",
    "    validation_data=ds_val,\n",
    "    batch_size=batch_size,\n",
    "    steps_per_epoch=num_batches_train,\n",
    "    validation_steps=num_batches_val,\n",
    "    max_queue_size=500,\n",
    "    class_weight=class_weights,\n",
    "    callbacks=[reduce_lr, early_stop],\n",
    "    use_multiprocessing=True,\n",
    "    workers=1\n",
    ")"
   ]
  },
  {
   "cell_type": "code",
   "execution_count": null,
   "id": "8ca5c9a5",
   "metadata": {
    "papermill": {
     "duration": 0.190646,
     "end_time": "2023-11-06T18:39:15.449332",
     "exception": false,
     "start_time": "2023-11-06T18:39:15.258686",
     "status": "completed"
    },
    "tags": []
   },
   "outputs": [],
   "source": []
  },
  {
   "cell_type": "markdown",
   "id": "87875645",
   "metadata": {
    "papermill": {
     "duration": 0.189818,
     "end_time": "2023-11-06T18:39:15.828842",
     "exception": false,
     "start_time": "2023-11-06T18:39:15.639024",
     "status": "completed"
    },
    "tags": []
   },
   "source": [
    "# calculate the number of batches in the train set\n",
    "num_batches_train = tf.data.experimental.cardinality(ds_train).numpy()\n",
    "\n",
    "# calculate the number of batches in the validation set\n",
    "num_batches_val = tf.data.experimental.cardinality(ds_val).numpy()\n",
    "\n",
    "\n",
    "with tf.device(\"/GPU:0\"):\n",
    "    history2 = best_model.fit(\n",
    "        ds_train,\n",
    "        epochs=100,\n",
    "        validation_data=ds_val,\n",
    "        batch_size=batch_size,\n",
    "        steps_per_epoch=num_batches_train,\n",
    "        validation_steps=num_batches_val,\n",
    "        max_queue_size=500,\n",
    "        class_weight=class_weights,\n",
    "        callbacks=[reduce_lr, early_stop],\n",
    "        use_multiprocessing=True,\n",
    "        workers=1\n",
    "    )"
   ]
  },
  {
   "cell_type": "code",
   "execution_count": 15,
   "id": "29837e2b",
   "metadata": {
    "execution": {
     "iopub.execute_input": "2023-11-06T18:39:16.208721Z",
     "iopub.status.busy": "2023-11-06T18:39:16.207970Z",
     "iopub.status.idle": "2023-11-06T18:39:17.444392Z",
     "shell.execute_reply": "2023-11-06T18:39:17.443403Z"
    },
    "papermill": {
     "duration": 1.428179,
     "end_time": "2023-11-06T18:39:17.446440",
     "exception": false,
     "start_time": "2023-11-06T18:39:16.018261",
     "status": "completed"
    },
    "tags": []
   },
   "outputs": [
    {
     "data": {
      "image/png": "[encoded data removed]",
      "text/plain": [
       "<Figure size 1200x600 with 2 Axes>"
      ]
     },
     "metadata": {},
     "output_type": "display_data"
    },
    {
     "name": "stdout",
     "output_type": "stream",
     "text": [
      "14/14 [==============================] - 1s 42ms/step - loss: 0.8877 - accuracy: 0.7829\n",
      "Précision du modèle sur l'ensemble de test: 78.29%\n"
     ]
    }
   ],
   "source": [
    "def training_plot(history):\n",
    "    plt.figure(figsize=(12, 6))\n",
    "    \n",
    "    plt.subplot(1, 2, 1)\n",
    "    plt.plot(history.history['val_accuracy'], 'g', label=\"Précision de validation\")\n",
    "    plt.plot(history.history['accuracy'], 'b', label=\"Précision d'entraînement\")\n",
    "    plt.title(\"Précision d'entraînement et de validation\")\n",
    "    plt.xlabel(\"Epoch\")\n",
    "    plt.ylabel(\"Précision\")\n",
    "    plt.legend()\n",
    "    \n",
    "    plt.subplot(1, 2, 2)\n",
    "    plt.plot(history.history['val_loss'], 'g', label=\"Perte lors de la validation\")\n",
    "    plt.plot(history.history['loss'], 'b', label=\"Perte lors de l'entraînement\")\n",
    "    plt.title(\"Perte lors de l'entraînement et de la validation\")\n",
    "    plt.xlabel(\"Epoch\")\n",
    "    plt.ylabel(\"Perte\")\n",
    "    plt.legend()\n",
    "    \n",
    "    plt.tight_layout()\n",
    "    plt.show()\n",
    "\n",
    "training_plot(history1)\n",
    "\n",
    "test_score = model.evaluate(ds_val)\n",
    "accuracy = test_score[1] * 100\n",
    "print(f\"Précision du modèle sur l'ensemble de test: {accuracy:.2f}%\")"
   ]
  },
  {
   "cell_type": "code",
   "execution_count": 16,
   "id": "f2ae5e06",
   "metadata": {
    "execution": {
     "iopub.execute_input": "2023-11-06T18:39:17.832602Z",
     "iopub.status.busy": "2023-11-06T18:39:17.832225Z",
     "iopub.status.idle": "2023-11-06T18:39:17.987052Z",
     "shell.execute_reply": "2023-11-06T18:39:17.986256Z"
    },
    "papermill": {
     "duration": 0.350045,
     "end_time": "2023-11-06T18:39:17.989337",
     "exception": false,
     "start_time": "2023-11-06T18:39:17.639292",
     "status": "completed"
    },
    "tags": []
   },
   "outputs": [],
   "source": [
    "test_data_file = \"/kaggle/input/gdsc-epita-minecraft-biome-classification/dataset_test.npy\"\n",
    "test_data = np.load(test_data_file)\n",
    "\n",
    "ds_test = tf.data.Dataset.from_tensor_slices(test_data).batch(batch_size)\n",
    "ds_test = ds_test.prefetch(tf.data.AUTOTUNE).cache()\n",
    "ds_test = ds_test.map(test_preprocess).map(lambda x: tf.image.resize(x, img_size))"
   ]
  },
  {
   "cell_type": "code",
   "execution_count": 17,
   "id": "1c60c3cb",
   "metadata": {
    "execution": {
     "iopub.execute_input": "2023-11-06T18:39:18.424955Z",
     "iopub.status.busy": "2023-11-06T18:39:18.424588Z",
     "iopub.status.idle": "2023-11-06T18:39:20.988710Z",
     "shell.execute_reply": "2023-11-06T18:39:20.987404Z"
    },
    "papermill": {
     "duration": 2.76004,
     "end_time": "2023-11-06T18:39:20.991184",
     "exception": false,
     "start_time": "2023-11-06T18:39:18.231144",
     "status": "completed"
    },
    "tags": []
   },
   "outputs": [
    {
     "name": "stdout",
     "output_type": "stream",
     "text": [
      "10/10 [==============================] - 3s 254ms/step\n"
     ]
    }
   ],
   "source": [
    "res = model.predict(ds_test).argmax(axis=1)\n",
    "df = pd.DataFrame({\"label\":res})\n",
    "df.to_csv(\"submission.csv\", index_label=\"id\")"
   ]
  },
  {
   "cell_type": "code",
   "execution_count": null,
   "id": "0d8a31df",
   "metadata": {
    "papermill": {
     "duration": 0.190597,
     "end_time": "2023-11-06T18:39:21.380057",
     "exception": false,
     "start_time": "2023-11-06T18:39:21.189460",
     "status": "completed"
    },
    "tags": []
   },
   "outputs": [],
   "source": []
  },
  {
   "cell_type": "code",
   "execution_count": null,
   "id": "d7ef79c6",
   "metadata": {
    "papermill": {
     "duration": 0.190241,
     "end_time": "2023-11-06T18:39:21.761694",
     "exception": false,
     "start_time": "2023-11-06T18:39:21.571453",
     "status": "completed"
    },
    "tags": []
   },
   "outputs": [],
   "source": []
  },
  {
   "cell_type": "code",
   "execution_count": null,
   "id": "13b6b956",
   "metadata": {
    "papermill": {
     "duration": 0.190469,
     "end_time": "2023-11-06T18:39:22.143001",
     "exception": false,
     "start_time": "2023-11-06T18:39:21.952532",
     "status": "completed"
    },
    "tags": []
   },
   "outputs": [],
   "source": []
  }
 ],
 "metadata": {
  "kernelspec": {
   "display_name": "Python 3",
   "language": "python",
   "name": "python3"
  },
  "language_info": {
   "codemirror_mode": {
    "name": "ipython",
    "version": 3
   },
   "file_extension": ".py",
   "mimetype": "text/x-python",
   "name": "python",
   "nbconvert_exporter": "python",
   "pygments_lexer": "ipython3",
   "version": "3.10.12"
  },
  "papermill": {
   "default_parameters": {},
   "duration": 407.850104,
   "end_time": "2023-11-06T18:39:25.824403",
   "environment_variables": {},
   "exception": null,
   "input_path": "__notebook__.ipynb",
   "output_path": "__notebook__.ipynb",
   "parameters": {},
   "start_time": "2023-11-06T18:32:37.974299",
   "version": "2.4.0"
  }
 },
 "nbformat": 4,
 "nbformat_minor": 5
}
